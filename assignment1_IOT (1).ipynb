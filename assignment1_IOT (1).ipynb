{
  "nbformat": 4,
  "nbformat_minor": 0,
  "metadata": {
    "colab": {
      "provenance": []
    },
    "kernelspec": {
      "name": "python3",
      "display_name": "Python 3"
    },
    "language_info": {
      "name": "python"
    }
  },
  "cells": [
    {
      "cell_type": "code",
      "execution_count": 1,
      "metadata": {
        "id": "U9w1ccCnmRqa"
      },
      "outputs": [],
      "source": [
        "def calculate_sum(*args):\n",
        "    return sum(args)"
      ]
    },
    {
      "cell_type": "code",
      "source": [
        "# Calculate the sum of numbers\n",
        "result_sum = calculate_sum(1, 2, 3, 4, 5)\n",
        "print(\"Sum:\", result_sum)\n"
      ],
      "metadata": {
        "colab": {
          "base_uri": "https://localhost:8080/"
        },
        "id": "aX-NgsbRm0MP",
        "outputId": "d41267f0-0e9d-4c9c-b29f-8973f2de6fb7"
      },
      "execution_count": 2,
      "outputs": [
        {
          "output_type": "stream",
          "name": "stdout",
          "text": [
            "Sum: 15\n"
          ]
        }
      ]
    }
  ]
}