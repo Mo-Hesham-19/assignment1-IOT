{
  "nbformat": 4,
  "nbformat_minor": 0,
  "metadata": {
    "colab": {
      "provenance": []
    },
    "kernelspec": {
      "name": "python3",
      "display_name": "Python 3"
    },
    "language_info": {
      "name": "python"
    }
  },
  "cells": [
    {
      "cell_type": "code",
      "execution_count": 1,
      "metadata": {
        "id": "yPCRv7dQdDqs"
      },
      "outputs": [],
      "source": [
        "def generate_fibonacci(N):\n",
        "    a, b = 0, 1\n",
        "    fibonacci_sequence = []\n",
        "    for _ in range(N):\n",
        "        fibonacci_sequence.append(a)\n",
        "        a, b = b, a + b\n",
        "    print(\" \".join(map(str, fibonacci_sequence)))"
      ]
    },
    {
      "cell_type": "code",
      "source": [
        "generate_fibonacci(10)"
      ],
      "metadata": {
        "colab": {
          "base_uri": "https://localhost:8080/"
        },
        "id": "fVRwOTfIdLGI",
        "outputId": "2f797076-a888-45a7-f171-266d484a13e2"
      },
      "execution_count": 2,
      "outputs": [
        {
          "output_type": "stream",
          "name": "stdout",
          "text": [
            "0 1 1 2 3 5 8 13 21 34\n"
          ]
        }
      ]
    }
  ]
}